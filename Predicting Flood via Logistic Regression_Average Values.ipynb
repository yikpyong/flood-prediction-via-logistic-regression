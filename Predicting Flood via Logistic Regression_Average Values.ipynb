{
  "nbformat": 4,
  "nbformat_minor": 0,
  "metadata": {
    "colab": {
      "name": "Predicting Flood via Logistic Regression",
      "provenance": [],
      "collapsed_sections": []
    },
    "kernelspec": {
      "name": "python3",
      "display_name": "Python 3"
    }
  },
  "cells": [
    {
      "cell_type": "markdown",
      "metadata": {
        "id": "zuE_d7DwPvB_"
      },
      "source": [
        "### Import libraries"
      ]
    },
    {
      "cell_type": "code",
      "metadata": {
        "id": "bSjn40fOLlk4"
      },
      "source": [
        "import pandas as pd\n",
        "import numpy as np\n",
        "import matplotlib.pyplot as plt\n",
        "\n",
        "from sklearn.linear_model import LogisticRegression\n",
        "import joblib"
      ],
      "execution_count": null,
      "outputs": []
    },
    {
      "cell_type": "markdown",
      "metadata": {
        "id": "stOjrNgbPysm"
      },
      "source": [
        "### Mount to Google Drive"
      ]
    },
    {
      "cell_type": "code",
      "metadata": {
        "colab": {
          "base_uri": "https://localhost:8080/"
        },
        "id": "zK6rgtiUDEQC",
        "outputId": "fb71cfe0-9757-4d53-d677-aa5156b8be10"
      },
      "source": [
        "from google.colab import drive\n",
        "drive.mount('/content/gdrive')"
      ],
      "execution_count": null,
      "outputs": [
        {
          "output_type": "stream",
          "name": "stdout",
          "text": [
            "Mounted at /content/gdrive\n"
          ]
        }
      ]
    },
    {
      "cell_type": "code",
      "metadata": {
        "colab": {
          "base_uri": "https://localhost:8080/"
        },
        "id": "Ckwl0Yt4DG6Q",
        "outputId": "cc32a10e-d015-456c-9c2c-27ac298a52e2"
      },
      "source": [
        "%cd '/content/gdrive/My Drive/Water_monitoring/'"
      ],
      "execution_count": null,
      "outputs": [
        {
          "output_type": "stream",
          "name": "stdout",
          "text": [
            "/content/gdrive/My Drive/Water_monitoring\n"
          ]
        }
      ]
    },
    {
      "cell_type": "markdown",
      "metadata": {
        "id": "IOTVtgXyP8dJ"
      },
      "source": [
        "### Upload excel file"
      ]
    },
    {
      "cell_type": "code",
      "metadata": {
        "colab": {
          "resources": {
            "http://localhost:8080/nbextensions/google.colab/files.js": {
              "data": "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",
              "ok": true,
              "headers": [
                [
                  "content-type",
                  "application/javascript"
                ]
              ],
              "status": 200,
              "status_text": ""
            }
          },
          "base_uri": "https://localhost:8080/",
          "height": 74
        },
        "id": "vUO9boz6DJpq",
        "outputId": "940aa5e4-701c-4f9e-841d-c7fa58f274b6"
      },
      "source": [
        "from google.colab import files\n",
        "uploaded = files.upload()"
      ],
      "execution_count": null,
      "outputs": [
        {
          "output_type": "display_data",
          "data": {
            "text/html": [
              "\n",
              "     <input type=\"file\" id=\"files-9b1f4d8e-eb98-42a9-8d7d-adb0d830548b\" name=\"files[]\" multiple disabled\n",
              "        style=\"border:none\" />\n",
              "     <output id=\"result-9b1f4d8e-eb98-42a9-8d7d-adb0d830548b\">\n",
              "      Upload widget is only available when the cell has been executed in the\n",
              "      current browser session. Please rerun this cell to enable.\n",
              "      </output>\n",
              "      <script src=\"/nbextensions/google.colab/files.js\"></script> "
            ],
            "text/plain": [
              "<IPython.core.display.HTML object>"
            ]
          },
          "metadata": {}
        },
        {
          "output_type": "stream",
          "name": "stdout",
          "text": [
            "Saving history_klang.xlsx to history_klang.xlsx\n"
          ]
        }
      ]
    },
    {
      "cell_type": "markdown",
      "metadata": {
        "id": "qjw7CZAWQC9j"
      },
      "source": [
        "### Edit and read the excel file"
      ]
    },
    {
      "cell_type": "code",
      "metadata": {
        "id": "iBEb4j-NDMLD"
      },
      "source": [
        "## load the data \n",
        "df_from_excel= pd.read_excel('history_klang.xlsx',\n",
        "                            sheet_name = 'My sheet', \n",
        "                            header = [0], \n",
        "                            index_col = 0,\n",
        "                            usecols = \"A, BF:BI, BL\",   #Only read the necessary columns\n",
        "                            skiprows= [3253,3254,3255],   #These rows are NaN\n",
        "                            na_values = 'NaN')\n",
        "df_from_excel = df_from_excel.rename(columns = {'Occurance (1:YES; 0:NO)': 'Occurance'}, inplace = False)"
      ],
      "execution_count": null,
      "outputs": []
    },
    {
      "cell_type": "markdown",
      "metadata": {
        "id": "O977AhWFQhlS"
      },
      "source": [
        "### View the excel file"
      ]
    },
    {
      "cell_type": "code",
      "metadata": {
        "colab": {
          "base_uri": "https://localhost:8080/",
          "height": 394
        },
        "id": "y5fGjMONHlFg",
        "outputId": "c6b0f48c-ba54-43a5-b9e4-5bf613288afc"
      },
      "source": [
        "df_from_excel.head(10)"
      ],
      "execution_count": null,
      "outputs": [
        {
          "output_type": "execute_result",
          "data": {
            "text/html": [
              "<div>\n",
              "<style scoped>\n",
              "    .dataframe tbody tr th:only-of-type {\n",
              "        vertical-align: middle;\n",
              "    }\n",
              "\n",
              "    .dataframe tbody tr th {\n",
              "        vertical-align: top;\n",
              "    }\n",
              "\n",
              "    .dataframe thead th {\n",
              "        text-align: right;\n",
              "    }\n",
              "</style>\n",
              "<table border=\"1\" class=\"dataframe\">\n",
              "  <thead>\n",
              "    <tr style=\"text-align: right;\">\n",
              "      <th></th>\n",
              "      <th>Temp_avg(°c)</th>\n",
              "      <th>Rain_sum(mm)</th>\n",
              "      <th>Humidity_avg(%)</th>\n",
              "      <th>Cloud_avg(%)</th>\n",
              "      <th>Occurance</th>\n",
              "    </tr>\n",
              "    <tr>\n",
              "      <th>Date</th>\n",
              "      <th></th>\n",
              "      <th></th>\n",
              "      <th></th>\n",
              "      <th></th>\n",
              "      <th></th>\n",
              "    </tr>\n",
              "  </thead>\n",
              "  <tbody>\n",
              "    <tr>\n",
              "      <th>Tue 01, Jan 2013</th>\n",
              "      <td>27.285714</td>\n",
              "      <td>0.7</td>\n",
              "      <td>76.625</td>\n",
              "      <td>49.125</td>\n",
              "      <td>0</td>\n",
              "    </tr>\n",
              "    <tr>\n",
              "      <th>Wed 02, Jan 2013</th>\n",
              "      <td>27.142857</td>\n",
              "      <td>11.9</td>\n",
              "      <td>81.750</td>\n",
              "      <td>51.625</td>\n",
              "      <td>0</td>\n",
              "    </tr>\n",
              "    <tr>\n",
              "      <th>Thu 03, Jan 2013</th>\n",
              "      <td>27.571429</td>\n",
              "      <td>8.6</td>\n",
              "      <td>79.750</td>\n",
              "      <td>58.000</td>\n",
              "      <td>0</td>\n",
              "    </tr>\n",
              "    <tr>\n",
              "      <th>Fri 04, Jan 2013</th>\n",
              "      <td>28.000000</td>\n",
              "      <td>3.5</td>\n",
              "      <td>77.125</td>\n",
              "      <td>39.625</td>\n",
              "      <td>0</td>\n",
              "    </tr>\n",
              "    <tr>\n",
              "      <th>Sat 05, Jan 2013</th>\n",
              "      <td>27.428571</td>\n",
              "      <td>6.2</td>\n",
              "      <td>78.000</td>\n",
              "      <td>45.750</td>\n",
              "      <td>0</td>\n",
              "    </tr>\n",
              "    <tr>\n",
              "      <th>Sun 06, Jan 2013</th>\n",
              "      <td>28.142857</td>\n",
              "      <td>0.1</td>\n",
              "      <td>72.375</td>\n",
              "      <td>14.500</td>\n",
              "      <td>0</td>\n",
              "    </tr>\n",
              "    <tr>\n",
              "      <th>Mon 07, Jan 2013</th>\n",
              "      <td>28.000000</td>\n",
              "      <td>0.5</td>\n",
              "      <td>75.750</td>\n",
              "      <td>11.750</td>\n",
              "      <td>0</td>\n",
              "    </tr>\n",
              "    <tr>\n",
              "      <th>Tue 08, Jan 2013</th>\n",
              "      <td>28.000000</td>\n",
              "      <td>0.2</td>\n",
              "      <td>73.875</td>\n",
              "      <td>39.500</td>\n",
              "      <td>0</td>\n",
              "    </tr>\n",
              "    <tr>\n",
              "      <th>Wed 09, Jan 2013</th>\n",
              "      <td>27.571429</td>\n",
              "      <td>0.2</td>\n",
              "      <td>73.500</td>\n",
              "      <td>56.125</td>\n",
              "      <td>0</td>\n",
              "    </tr>\n",
              "    <tr>\n",
              "      <th>Thu 10, Jan 2013</th>\n",
              "      <td>27.571429</td>\n",
              "      <td>0.9</td>\n",
              "      <td>73.500</td>\n",
              "      <td>68.750</td>\n",
              "      <td>0</td>\n",
              "    </tr>\n",
              "  </tbody>\n",
              "</table>\n",
              "</div>"
            ],
            "text/plain": [
              "                  Temp_avg(°c)  Rain_sum(mm)  ...  Cloud_avg(%)  Occurance\n",
              "Date                                          ...                         \n",
              "Tue 01, Jan 2013     27.285714           0.7  ...        49.125          0\n",
              "Wed 02, Jan 2013     27.142857          11.9  ...        51.625          0\n",
              "Thu 03, Jan 2013     27.571429           8.6  ...        58.000          0\n",
              "Fri 04, Jan 2013     28.000000           3.5  ...        39.625          0\n",
              "Sat 05, Jan 2013     27.428571           6.2  ...        45.750          0\n",
              "Sun 06, Jan 2013     28.142857           0.1  ...        14.500          0\n",
              "Mon 07, Jan 2013     28.000000           0.5  ...        11.750          0\n",
              "Tue 08, Jan 2013     28.000000           0.2  ...        39.500          0\n",
              "Wed 09, Jan 2013     27.571429           0.2  ...        56.125          0\n",
              "Thu 10, Jan 2013     27.571429           0.9  ...        68.750          0\n",
              "\n",
              "[10 rows x 5 columns]"
            ]
          },
          "metadata": {},
          "execution_count": 5
        }
      ]
    },
    {
      "cell_type": "code",
      "metadata": {
        "colab": {
          "base_uri": "https://localhost:8080/",
          "height": 394
        },
        "id": "e1TwV-U9QuK9",
        "outputId": "8f19bf17-061d-40cf-f649-d9089533bab3"
      },
      "source": [
        "df_from_excel.tail(10)"
      ],
      "execution_count": null,
      "outputs": [
        {
          "output_type": "execute_result",
          "data": {
            "text/html": [
              "<div>\n",
              "<style scoped>\n",
              "    .dataframe tbody tr th:only-of-type {\n",
              "        vertical-align: middle;\n",
              "    }\n",
              "\n",
              "    .dataframe tbody tr th {\n",
              "        vertical-align: top;\n",
              "    }\n",
              "\n",
              "    .dataframe thead th {\n",
              "        text-align: right;\n",
              "    }\n",
              "</style>\n",
              "<table border=\"1\" class=\"dataframe\">\n",
              "  <thead>\n",
              "    <tr style=\"text-align: right;\">\n",
              "      <th></th>\n",
              "      <th>Temp_avg(°c)</th>\n",
              "      <th>Rain_sum(mm)</th>\n",
              "      <th>Humidity_avg(%)</th>\n",
              "      <th>Cloud_avg(%)</th>\n",
              "      <th>Occurance</th>\n",
              "    </tr>\n",
              "    <tr>\n",
              "      <th>Date</th>\n",
              "      <th></th>\n",
              "      <th></th>\n",
              "      <th></th>\n",
              "      <th></th>\n",
              "      <th></th>\n",
              "    </tr>\n",
              "  </thead>\n",
              "  <tbody>\n",
              "    <tr>\n",
              "      <th>Wed 17, Nov 2021</th>\n",
              "      <td>26.428571</td>\n",
              "      <td>1.8</td>\n",
              "      <td>81.500</td>\n",
              "      <td>67.375</td>\n",
              "      <td>0</td>\n",
              "    </tr>\n",
              "    <tr>\n",
              "      <th>Thu 18, Nov 2021</th>\n",
              "      <td>26.285714</td>\n",
              "      <td>0.0</td>\n",
              "      <td>79.000</td>\n",
              "      <td>36.375</td>\n",
              "      <td>0</td>\n",
              "    </tr>\n",
              "    <tr>\n",
              "      <th>Fri 19, Nov 2021</th>\n",
              "      <td>26.571429</td>\n",
              "      <td>1.8</td>\n",
              "      <td>81.000</td>\n",
              "      <td>60.000</td>\n",
              "      <td>0</td>\n",
              "    </tr>\n",
              "    <tr>\n",
              "      <th>Sat 20, Nov 2021</th>\n",
              "      <td>27.142857</td>\n",
              "      <td>1.1</td>\n",
              "      <td>76.750</td>\n",
              "      <td>36.875</td>\n",
              "      <td>0</td>\n",
              "    </tr>\n",
              "    <tr>\n",
              "      <th>Sun 21, Nov 2021</th>\n",
              "      <td>26.571429</td>\n",
              "      <td>2.3</td>\n",
              "      <td>80.875</td>\n",
              "      <td>69.625</td>\n",
              "      <td>0</td>\n",
              "    </tr>\n",
              "    <tr>\n",
              "      <th>Mon 22, Nov 2021</th>\n",
              "      <td>26.142857</td>\n",
              "      <td>5.3</td>\n",
              "      <td>85.000</td>\n",
              "      <td>75.500</td>\n",
              "      <td>0</td>\n",
              "    </tr>\n",
              "    <tr>\n",
              "      <th>Tue 23, Nov 2021</th>\n",
              "      <td>26.714286</td>\n",
              "      <td>1.2</td>\n",
              "      <td>81.375</td>\n",
              "      <td>74.125</td>\n",
              "      <td>0</td>\n",
              "    </tr>\n",
              "    <tr>\n",
              "      <th>Wed 24, Nov 2021</th>\n",
              "      <td>26.285714</td>\n",
              "      <td>6.3</td>\n",
              "      <td>83.625</td>\n",
              "      <td>78.125</td>\n",
              "      <td>0</td>\n",
              "    </tr>\n",
              "    <tr>\n",
              "      <th>Thu 25, Nov 2021</th>\n",
              "      <td>25.571429</td>\n",
              "      <td>0.2</td>\n",
              "      <td>82.375</td>\n",
              "      <td>55.250</td>\n",
              "      <td>0</td>\n",
              "    </tr>\n",
              "    <tr>\n",
              "      <th>Fri 26, Nov 2021</th>\n",
              "      <td>25.571429</td>\n",
              "      <td>2.3</td>\n",
              "      <td>84.625</td>\n",
              "      <td>59.500</td>\n",
              "      <td>0</td>\n",
              "    </tr>\n",
              "  </tbody>\n",
              "</table>\n",
              "</div>"
            ],
            "text/plain": [
              "                  Temp_avg(°c)  Rain_sum(mm)  ...  Cloud_avg(%)  Occurance\n",
              "Date                                          ...                         \n",
              "Wed 17, Nov 2021     26.428571           1.8  ...        67.375          0\n",
              "Thu 18, Nov 2021     26.285714           0.0  ...        36.375          0\n",
              "Fri 19, Nov 2021     26.571429           1.8  ...        60.000          0\n",
              "Sat 20, Nov 2021     27.142857           1.1  ...        36.875          0\n",
              "Sun 21, Nov 2021     26.571429           2.3  ...        69.625          0\n",
              "Mon 22, Nov 2021     26.142857           5.3  ...        75.500          0\n",
              "Tue 23, Nov 2021     26.714286           1.2  ...        74.125          0\n",
              "Wed 24, Nov 2021     26.285714           6.3  ...        78.125          0\n",
              "Thu 25, Nov 2021     25.571429           0.2  ...        55.250          0\n",
              "Fri 26, Nov 2021     25.571429           2.3  ...        59.500          0\n",
              "\n",
              "[10 rows x 5 columns]"
            ]
          },
          "metadata": {},
          "execution_count": 6
        }
      ]
    },
    {
      "cell_type": "markdown",
      "metadata": {
        "id": "k4Fbz-DERBGu"
      },
      "source": [
        "### Correlation Analysis"
      ]
    },
    {
      "cell_type": "code",
      "metadata": {
        "id": "z05GkmBoNdXU",
        "colab": {
          "base_uri": "https://localhost:8080/"
        },
        "outputId": "d7d19a43-a629-4169-cf5f-4bfc460f3f98"
      },
      "source": [
        "corr = df_from_excel.corr()\n",
        "print(corr)"
      ],
      "execution_count": null,
      "outputs": [
        {
          "output_type": "stream",
          "name": "stdout",
          "text": [
            "                 Temp_avg(°c)  Rain_sum(mm)  ...  Cloud_avg(%)  Occurance\n",
            "Temp_avg(°c)         1.000000     -0.366120  ...     -0.624882  -0.044492\n",
            "Rain_sum(mm)        -0.366120      1.000000  ...      0.457047   0.145573\n",
            "Humidity_avg(%)     -0.748966      0.592733  ...      0.676789   0.093902\n",
            "Cloud_avg(%)        -0.624882      0.457047  ...      1.000000   0.088258\n",
            "Occurance           -0.044492      0.145573  ...      0.088258   1.000000\n",
            "\n",
            "[5 rows x 5 columns]\n"
          ]
        }
      ]
    },
    {
      "cell_type": "markdown",
      "metadata": {
        "id": "0hbf_GrFRZGZ"
      },
      "source": [
        "### Split the data into train, test, and validation data"
      ]
    },
    {
      "cell_type": "code",
      "metadata": {
        "id": "HsuOZKz0LvWk"
      },
      "source": [
        "# split into train and test \n",
        "dfTrain = df_from_excel[:]\n",
        "dfTest = df_from_excel[1500:]\n",
        "dfCheck = df_from_excel[1500:]"
      ],
      "execution_count": null,
      "outputs": []
    },
    {
      "cell_type": "markdown",
      "metadata": {
        "id": "2hkbgpkURtRT"
      },
      "source": [
        "### Split features from target variable "
      ]
    },
    {
      "cell_type": "code",
      "metadata": {
        "id": "rqO5U65GL0f3"
      },
      "source": [
        "trainLabel = np.asarray(dfTrain['Occurance'])\n",
        "trainData = np.asarray(dfTrain.drop('Occurance',1))\n",
        "testLabel = np.asarray(dfTest['Occurance'])\n",
        "testData = np.asarray(dfTest.drop('Occurance',1))"
      ],
      "execution_count": null,
      "outputs": []
    },
    {
      "cell_type": "markdown",
      "metadata": {
        "id": "IVB-Hpn2R1YM"
      },
      "source": [
        "### Normalize the data \n",
        "Make the interpretation of the model more easier by looking at its weights"
      ]
    },
    {
      "cell_type": "code",
      "metadata": {
        "id": "_wlaiBETL09q"
      },
      "source": [
        "means = np.mean(trainData, axis=0)\n",
        "stds = np.std(trainData, axis=0)\n",
        "\n",
        "trainData = (trainData - means)/stds\n",
        "testData = (testData - means)/stds"
      ],
      "execution_count": null,
      "outputs": []
    },
    {
      "cell_type": "markdown",
      "metadata": {
        "id": "PrFyflZQSLdv"
      },
      "source": [
        "### Train and evaluate the model"
      ]
    },
    {
      "cell_type": "code",
      "metadata": {
        "id": "GPYqF5hXL53g",
        "colab": {
          "base_uri": "https://localhost:8080/"
        },
        "outputId": "15132f7e-a7fe-4a57-f8fe-2991eb76daff"
      },
      "source": [
        "FloodCheck = LogisticRegression(class_weight={0:1,1:15},solver='saga',penalty='l2')\n",
        "FloodCheck.fit(trainData, trainLabel)\n",
        "accuracy = FloodCheck.score(testData, testLabel)\n",
        "print(\"accuracy = \", accuracy * 100, \"%\")"
      ],
      "execution_count": null,
      "outputs": [
        {
          "output_type": "stream",
          "name": "stdout",
          "text": [
            "accuracy =  80.87899543378995 %\n"
          ]
        }
      ]
    },
    {
      "cell_type": "markdown",
      "metadata": {
        "id": "Js0Xms9MSYFM"
      },
      "source": [
        "### Interpret the model"
      ]
    },
    {
      "cell_type": "code",
      "metadata": {
        "id": "ercnNMHLL7Q0",
        "colab": {
          "base_uri": "https://localhost:8080/",
          "height": 405
        },
        "outputId": "e4c86b37-4d0f-4a58-8714-895850a36a17"
      },
      "source": [
        "coeff = list(FloodCheck.coef_[0])\n",
        "labels = list(dfTrain.drop('Occurance',1).columns)\n",
        " \n",
        "features = pd.DataFrame()\n",
        "features['Features'] = labels\n",
        "features['importance'] = coeff\n",
        "features.sort_values(by=['importance'], ascending=True, inplace=True)\n",
        "features['positive'] = features['importance'] > 0\n",
        "features.set_index('Features', inplace=True)\n",
        "features.importance.plot(kind='barh', figsize=(11, 6),color = features.positive.map({True: 'blue', False: 'red'}))\n",
        "plt.xlabel('Importance')"
      ],
      "execution_count": null,
      "outputs": [
        {
          "output_type": "execute_result",
          "data": {
            "text/plain": [
              "Text(0.5, 0, 'Importance')"
            ]
          },
          "metadata": {},
          "execution_count": 12
        },
        {
          "output_type": "display_data",
          "data": {
            "image/png": "[encoded data removed]",
            "text/plain": [
              "<Figure size 792x432 with 1 Axes>"
            ]
          },
          "metadata": {
            "needs_background": "light"
          }
        }
      ]
    },
    {
      "cell_type": "code",
      "metadata": {
        "colab": {
          "base_uri": "https://localhost:8080/"
        },
        "id": "0KxuBYOoI4sb",
        "outputId": "8478fb0f-1efd-4550-f41b-1b113afb430a"
      },
      "source": [
        "total = coeff[0] + coeff[1] + coeff[2] + coeff[3]\n",
        "\n",
        "for count in range(4):\n",
        "  print(\"Importance of {0} is {1}%\".format(labels[count], round(coeff[count]*100/total,2)))"
      ],
      "execution_count": null,
      "outputs": [
        {
          "output_type": "stream",
          "name": "stdout",
          "text": [
            "Importance of Temp_avg(°c) is 25.46%\n",
            "Importance of Rain_sum(mm) is 36.07%\n",
            "Importance of Humidity_avg(%) is 18.62%\n",
            "Importance of Cloud_avg(%) is 19.85%\n"
          ]
        }
      ]
    },
    {
      "cell_type": "markdown",
      "metadata": {
        "id": "b6-ZUZnwSf7I"
      },
      "source": [
        "### Save and load model"
      ]
    },
    {
      "cell_type": "code",
      "metadata": {
        "id": "FUT0Cjr2N0IH",
        "colab": {
          "base_uri": "https://localhost:8080/"
        },
        "outputId": "6e3bfea4-91c1-4e2a-f582-21d33a24d401"
      },
      "source": [
        "## save model\n",
        "joblib.dump([FloodCheck, means, stds], 'FloodModel.pkl')\n",
        "\n",
        "## load model\n",
        "FloodLoadedModel, means, stds = joblib.load('FloodModel.pkl')\n",
        "accuracyModel = FloodLoadedModel.score(testData, testLabel)\n",
        "print(\"accuracy = \",accuracyModel * 100,\"%\")"
      ],
      "execution_count": null,
      "outputs": [
        {
          "output_type": "stream",
          "name": "stdout",
          "text": [
            "accuracy =  80.87899543378995 %\n"
          ]
        }
      ]
    },
    {
      "cell_type": "markdown",
      "metadata": {
        "id": "MazKfVeqSm7G"
      },
      "source": [
        "### Make predictions based on historical weather data"
      ]
    },
    {
      "cell_type": "code",
      "metadata": {
        "id": "eUEeA1-dL75s",
        "colab": {
          "base_uri": "https://localhost:8080/"
        },
        "outputId": "f9252b0a-0f51-498f-b2b5-e1e2c93ec566"
      },
      "source": [
        "sampleData = dfCheck[:]\n",
        "\n",
        "# prepare sample\n",
        "sampleDataFeatures = np.asarray(sampleData.drop('Occurance',1))\n",
        "sampleDataFeatures = (sampleDataFeatures - means)/stds\n",
        "\n",
        "# predict\n",
        "predictionProbability = FloodCheck.predict_proba(sampleDataFeatures)\n",
        "prediction = FloodCheck.predict(sampleDataFeatures)\n",
        "print('Probability:', predictionProbability)\n",
        "print('prediction:', prediction)"
      ],
      "execution_count": null,
      "outputs": [
        {
          "output_type": "stream",
          "name": "stdout",
          "text": [
            "Probability: [[0.7935485  0.2064515 ]\n",
            " [0.79491218 0.20508782]\n",
            " [0.68193465 0.31806535]\n",
            " ...\n",
            " [0.5503573  0.4496427 ]\n",
            " [0.73613064 0.26386936]\n",
            " [0.68866927 0.31133073]]\n",
            "prediction: [0 0 0 ... 0 0 0]\n"
          ]
        }
      ]
    },
    {
      "cell_type": "code",
      "metadata": {
        "id": "rqF6W5WV_ODc"
      },
      "source": [
        "percentage = []\n",
        "for length in range(len(dfCheck)):\n",
        "  result=(predictionProbability[length][1])*100\n",
        "  percentage.append(round(result))\n",
        "\n",
        "dfCheck.insert(5, \"Flood Prediction(%)\", percentage, True)"
      ],
      "execution_count": null,
      "outputs": []
    },
    {
      "cell_type": "code",
      "metadata": {
        "colab": {
          "base_uri": "https://localhost:8080/",
          "height": 1000
        },
        "id": "VeoRxRKe7UVr",
        "outputId": "fee628ad-f617-46f0-a64a-ab61f3ea8e04"
      },
      "source": [
        "dfCheck[-130:-80]"
      ],
      "execution_count": null,
      "outputs": [
        {
          "output_type": "execute_result",
          "data": {
            "text/html": [
              "<div>\n",
              "<style scoped>\n",
              "    .dataframe tbody tr th:only-of-type {\n",
              "        vertical-align: middle;\n",
              "    }\n",
              "\n",
              "    .dataframe tbody tr th {\n",
              "        vertical-align: top;\n",
              "    }\n",
              "\n",
              "    .dataframe thead th {\n",
              "        text-align: right;\n",
              "    }\n",
              "</style>\n",
              "<table border=\"1\" class=\"dataframe\">\n",
              "  <thead>\n",
              "    <tr style=\"text-align: right;\">\n",
              "      <th></th>\n",
              "      <th>Temp_avg(°c)</th>\n",
              "      <th>Rain_sum(mm)</th>\n",
              "      <th>Humidity_avg(%)</th>\n",
              "      <th>Cloud_avg(%)</th>\n",
              "      <th>Occurance</th>\n",
              "      <th>Flood Prediction(%)</th>\n",
              "    </tr>\n",
              "    <tr>\n",
              "      <th>Date</th>\n",
              "      <th></th>\n",
              "      <th></th>\n",
              "      <th></th>\n",
              "      <th></th>\n",
              "      <th></th>\n",
              "      <th></th>\n",
              "    </tr>\n",
              "  </thead>\n",
              "  <tbody>\n",
              "    <tr>\n",
              "      <th>Tue 20, Jul 2021</th>\n",
              "      <td>28.000000</td>\n",
              "      <td>0.0</td>\n",
              "      <td>72.125</td>\n",
              "      <td>19.875</td>\n",
              "      <td>0</td>\n",
              "      <td>23</td>\n",
              "    </tr>\n",
              "    <tr>\n",
              "      <th>Wed 21, Jul 2021</th>\n",
              "      <td>27.714286</td>\n",
              "      <td>0.2</td>\n",
              "      <td>68.875</td>\n",
              "      <td>42.375</td>\n",
              "      <td>0</td>\n",
              "      <td>25</td>\n",
              "    </tr>\n",
              "    <tr>\n",
              "      <th>Thu 22, Jul 2021</th>\n",
              "      <td>28.142857</td>\n",
              "      <td>0.4</td>\n",
              "      <td>70.875</td>\n",
              "      <td>38.750</td>\n",
              "      <td>0</td>\n",
              "      <td>28</td>\n",
              "    </tr>\n",
              "    <tr>\n",
              "      <th>Fri 23, Jul 2021</th>\n",
              "      <td>28.428571</td>\n",
              "      <td>0.0</td>\n",
              "      <td>67.125</td>\n",
              "      <td>40.500</td>\n",
              "      <td>0</td>\n",
              "      <td>27</td>\n",
              "    </tr>\n",
              "    <tr>\n",
              "      <th>Sat 24, Jul 2021</th>\n",
              "      <td>27.571429</td>\n",
              "      <td>1.6</td>\n",
              "      <td>74.250</td>\n",
              "      <td>41.250</td>\n",
              "      <td>0</td>\n",
              "      <td>29</td>\n",
              "    </tr>\n",
              "    <tr>\n",
              "      <th>Sun 25, Jul 2021</th>\n",
              "      <td>27.428571</td>\n",
              "      <td>16.4</td>\n",
              "      <td>77.125</td>\n",
              "      <td>67.375</td>\n",
              "      <td>0</td>\n",
              "      <td>55</td>\n",
              "    </tr>\n",
              "    <tr>\n",
              "      <th>Mon 26, Jul 2021</th>\n",
              "      <td>28.142857</td>\n",
              "      <td>3.4</td>\n",
              "      <td>74.875</td>\n",
              "      <td>50.875</td>\n",
              "      <td>0</td>\n",
              "      <td>38</td>\n",
              "    </tr>\n",
              "    <tr>\n",
              "      <th>Tue 27, Jul 2021</th>\n",
              "      <td>27.857143</td>\n",
              "      <td>1.3</td>\n",
              "      <td>72.625</td>\n",
              "      <td>48.375</td>\n",
              "      <td>0</td>\n",
              "      <td>32</td>\n",
              "    </tr>\n",
              "    <tr>\n",
              "      <th>Wed 28, Jul 2021</th>\n",
              "      <td>28.000000</td>\n",
              "      <td>0.7</td>\n",
              "      <td>70.125</td>\n",
              "      <td>56.625</td>\n",
              "      <td>0</td>\n",
              "      <td>32</td>\n",
              "    </tr>\n",
              "    <tr>\n",
              "      <th>Thu 29, Jul 2021</th>\n",
              "      <td>27.285714</td>\n",
              "      <td>2.9</td>\n",
              "      <td>72.000</td>\n",
              "      <td>54.875</td>\n",
              "      <td>0</td>\n",
              "      <td>31</td>\n",
              "    </tr>\n",
              "    <tr>\n",
              "      <th>Fri 30, Jul 2021</th>\n",
              "      <td>28.285714</td>\n",
              "      <td>3.1</td>\n",
              "      <td>66.500</td>\n",
              "      <td>65.000</td>\n",
              "      <td>1</td>\n",
              "      <td>36</td>\n",
              "    </tr>\n",
              "    <tr>\n",
              "      <th>Sat 31, Jul 2021</th>\n",
              "      <td>27.857143</td>\n",
              "      <td>0.7</td>\n",
              "      <td>74.000</td>\n",
              "      <td>31.750</td>\n",
              "      <td>0</td>\n",
              "      <td>27</td>\n",
              "    </tr>\n",
              "    <tr>\n",
              "      <th>Sun 01, Aug 2021</th>\n",
              "      <td>28.285714</td>\n",
              "      <td>0.7</td>\n",
              "      <td>70.750</td>\n",
              "      <td>42.375</td>\n",
              "      <td>0</td>\n",
              "      <td>30</td>\n",
              "    </tr>\n",
              "    <tr>\n",
              "      <th>Mon 02, Aug 2021</th>\n",
              "      <td>27.142857</td>\n",
              "      <td>6.1</td>\n",
              "      <td>77.000</td>\n",
              "      <td>66.125</td>\n",
              "      <td>0</td>\n",
              "      <td>41</td>\n",
              "    </tr>\n",
              "    <tr>\n",
              "      <th>Tue 03, Aug 2021</th>\n",
              "      <td>28.000000</td>\n",
              "      <td>4.7</td>\n",
              "      <td>73.125</td>\n",
              "      <td>74.125</td>\n",
              "      <td>0</td>\n",
              "      <td>44</td>\n",
              "    </tr>\n",
              "    <tr>\n",
              "      <th>Wed 04, Aug 2021</th>\n",
              "      <td>28.142857</td>\n",
              "      <td>1.2</td>\n",
              "      <td>72.125</td>\n",
              "      <td>44.375</td>\n",
              "      <td>0</td>\n",
              "      <td>32</td>\n",
              "    </tr>\n",
              "    <tr>\n",
              "      <th>Thu 05, Aug 2021</th>\n",
              "      <td>28.000000</td>\n",
              "      <td>3.4</td>\n",
              "      <td>74.000</td>\n",
              "      <td>69.500</td>\n",
              "      <td>0</td>\n",
              "      <td>42</td>\n",
              "    </tr>\n",
              "    <tr>\n",
              "      <th>Fri 06, Aug 2021</th>\n",
              "      <td>27.714286</td>\n",
              "      <td>3.0</td>\n",
              "      <td>72.875</td>\n",
              "      <td>52.500</td>\n",
              "      <td>0</td>\n",
              "      <td>34</td>\n",
              "    </tr>\n",
              "    <tr>\n",
              "      <th>Sat 07, Aug 2021</th>\n",
              "      <td>27.714286</td>\n",
              "      <td>3.1</td>\n",
              "      <td>76.125</td>\n",
              "      <td>70.250</td>\n",
              "      <td>0</td>\n",
              "      <td>42</td>\n",
              "    </tr>\n",
              "    <tr>\n",
              "      <th>Sun 08, Aug 2021</th>\n",
              "      <td>27.142857</td>\n",
              "      <td>18.0</td>\n",
              "      <td>80.000</td>\n",
              "      <td>78.625</td>\n",
              "      <td>0</td>\n",
              "      <td>61</td>\n",
              "    </tr>\n",
              "    <tr>\n",
              "      <th>Mon 09, Aug 2021</th>\n",
              "      <td>28.000000</td>\n",
              "      <td>6.6</td>\n",
              "      <td>75.250</td>\n",
              "      <td>70.125</td>\n",
              "      <td>0</td>\n",
              "      <td>47</td>\n",
              "    </tr>\n",
              "    <tr>\n",
              "      <th>Tue 10, Aug 2021</th>\n",
              "      <td>27.857143</td>\n",
              "      <td>10.3</td>\n",
              "      <td>77.125</td>\n",
              "      <td>80.750</td>\n",
              "      <td>0</td>\n",
              "      <td>56</td>\n",
              "    </tr>\n",
              "    <tr>\n",
              "      <th>Wed 11, Aug 2021</th>\n",
              "      <td>27.428571</td>\n",
              "      <td>6.7</td>\n",
              "      <td>76.125</td>\n",
              "      <td>65.125</td>\n",
              "      <td>0</td>\n",
              "      <td>43</td>\n",
              "    </tr>\n",
              "    <tr>\n",
              "      <th>Thu 12, Aug 2021</th>\n",
              "      <td>27.714286</td>\n",
              "      <td>2.0</td>\n",
              "      <td>73.500</td>\n",
              "      <td>46.500</td>\n",
              "      <td>0</td>\n",
              "      <td>32</td>\n",
              "    </tr>\n",
              "    <tr>\n",
              "      <th>Fri 13, Aug 2021</th>\n",
              "      <td>28.142857</td>\n",
              "      <td>1.5</td>\n",
              "      <td>69.375</td>\n",
              "      <td>65.625</td>\n",
              "      <td>0</td>\n",
              "      <td>36</td>\n",
              "    </tr>\n",
              "    <tr>\n",
              "      <th>Sat 14, Aug 2021</th>\n",
              "      <td>27.714286</td>\n",
              "      <td>3.2</td>\n",
              "      <td>71.750</td>\n",
              "      <td>68.250</td>\n",
              "      <td>0</td>\n",
              "      <td>38</td>\n",
              "    </tr>\n",
              "    <tr>\n",
              "      <th>Sun 15, Aug 2021</th>\n",
              "      <td>27.000000</td>\n",
              "      <td>9.0</td>\n",
              "      <td>77.625</td>\n",
              "      <td>67.125</td>\n",
              "      <td>0</td>\n",
              "      <td>44</td>\n",
              "    </tr>\n",
              "    <tr>\n",
              "      <th>Mon 16, Aug 2021</th>\n",
              "      <td>26.571429</td>\n",
              "      <td>14.2</td>\n",
              "      <td>82.375</td>\n",
              "      <td>68.500</td>\n",
              "      <td>0</td>\n",
              "      <td>52</td>\n",
              "    </tr>\n",
              "    <tr>\n",
              "      <th>Tue 17, Aug 2021</th>\n",
              "      <td>25.571429</td>\n",
              "      <td>38.4</td>\n",
              "      <td>87.625</td>\n",
              "      <td>77.125</td>\n",
              "      <td>0</td>\n",
              "      <td>77</td>\n",
              "    </tr>\n",
              "    <tr>\n",
              "      <th>Wed 18, Aug 2021</th>\n",
              "      <td>25.428571</td>\n",
              "      <td>33.9</td>\n",
              "      <td>88.375</td>\n",
              "      <td>80.625</td>\n",
              "      <td>1</td>\n",
              "      <td>74</td>\n",
              "    </tr>\n",
              "    <tr>\n",
              "      <th>Thu 19, Aug 2021</th>\n",
              "      <td>24.142857</td>\n",
              "      <td>49.9</td>\n",
              "      <td>94.000</td>\n",
              "      <td>80.500</td>\n",
              "      <td>1</td>\n",
              "      <td>84</td>\n",
              "    </tr>\n",
              "    <tr>\n",
              "      <th>Fri 20, Aug 2021</th>\n",
              "      <td>24.000000</td>\n",
              "      <td>6.1</td>\n",
              "      <td>86.375</td>\n",
              "      <td>78.125</td>\n",
              "      <td>0</td>\n",
              "      <td>32</td>\n",
              "    </tr>\n",
              "    <tr>\n",
              "      <th>Sat 21, Aug 2021</th>\n",
              "      <td>25.000000</td>\n",
              "      <td>5.5</td>\n",
              "      <td>87.125</td>\n",
              "      <td>66.750</td>\n",
              "      <td>0</td>\n",
              "      <td>35</td>\n",
              "    </tr>\n",
              "    <tr>\n",
              "      <th>Sun 22, Aug 2021</th>\n",
              "      <td>25.428571</td>\n",
              "      <td>11.6</td>\n",
              "      <td>84.125</td>\n",
              "      <td>64.125</td>\n",
              "      <td>1</td>\n",
              "      <td>41</td>\n",
              "    </tr>\n",
              "    <tr>\n",
              "      <th>Mon 23, Aug 2021</th>\n",
              "      <td>25.142857</td>\n",
              "      <td>2.4</td>\n",
              "      <td>85.250</td>\n",
              "      <td>62.000</td>\n",
              "      <td>0</td>\n",
              "      <td>30</td>\n",
              "    </tr>\n",
              "    <tr>\n",
              "      <th>Tue 24, Aug 2021</th>\n",
              "      <td>26.571429</td>\n",
              "      <td>1.2</td>\n",
              "      <td>79.875</td>\n",
              "      <td>63.250</td>\n",
              "      <td>0</td>\n",
              "      <td>33</td>\n",
              "    </tr>\n",
              "    <tr>\n",
              "      <th>Wed 25, Aug 2021</th>\n",
              "      <td>25.714286</td>\n",
              "      <td>8.6</td>\n",
              "      <td>82.375</td>\n",
              "      <td>74.125</td>\n",
              "      <td>0</td>\n",
              "      <td>41</td>\n",
              "    </tr>\n",
              "    <tr>\n",
              "      <th>Thu 26, Aug 2021</th>\n",
              "      <td>26.000000</td>\n",
              "      <td>0.3</td>\n",
              "      <td>79.125</td>\n",
              "      <td>48.375</td>\n",
              "      <td>0</td>\n",
              "      <td>25</td>\n",
              "    </tr>\n",
              "    <tr>\n",
              "      <th>Fri 27, Aug 2021</th>\n",
              "      <td>25.571429</td>\n",
              "      <td>1.0</td>\n",
              "      <td>84.250</td>\n",
              "      <td>67.750</td>\n",
              "      <td>0</td>\n",
              "      <td>32</td>\n",
              "    </tr>\n",
              "    <tr>\n",
              "      <th>Sat 28, Aug 2021</th>\n",
              "      <td>26.857143</td>\n",
              "      <td>0.4</td>\n",
              "      <td>75.625</td>\n",
              "      <td>52.875</td>\n",
              "      <td>0</td>\n",
              "      <td>28</td>\n",
              "    </tr>\n",
              "    <tr>\n",
              "      <th>Sun 29, Aug 2021</th>\n",
              "      <td>26.857143</td>\n",
              "      <td>2.2</td>\n",
              "      <td>76.250</td>\n",
              "      <td>70.875</td>\n",
              "      <td>0</td>\n",
              "      <td>36</td>\n",
              "    </tr>\n",
              "    <tr>\n",
              "      <th>Mon 30, Aug 2021</th>\n",
              "      <td>25.714286</td>\n",
              "      <td>4.3</td>\n",
              "      <td>81.500</td>\n",
              "      <td>75.875</td>\n",
              "      <td>0</td>\n",
              "      <td>36</td>\n",
              "    </tr>\n",
              "    <tr>\n",
              "      <th>Tue 31, Aug 2021</th>\n",
              "      <td>26.285714</td>\n",
              "      <td>3.1</td>\n",
              "      <td>81.125</td>\n",
              "      <td>67.625</td>\n",
              "      <td>0</td>\n",
              "      <td>36</td>\n",
              "    </tr>\n",
              "    <tr>\n",
              "      <th>Wed 01, Sep 2021</th>\n",
              "      <td>25.142857</td>\n",
              "      <td>2.8</td>\n",
              "      <td>86.500</td>\n",
              "      <td>73.625</td>\n",
              "      <td>0</td>\n",
              "      <td>35</td>\n",
              "    </tr>\n",
              "    <tr>\n",
              "      <th>Thu 02, Sep 2021</th>\n",
              "      <td>25.142857</td>\n",
              "      <td>0.5</td>\n",
              "      <td>84.250</td>\n",
              "      <td>57.250</td>\n",
              "      <td>0</td>\n",
              "      <td>26</td>\n",
              "    </tr>\n",
              "    <tr>\n",
              "      <th>Fri 03, Sep 2021</th>\n",
              "      <td>23.857143</td>\n",
              "      <td>3.5</td>\n",
              "      <td>90.500</td>\n",
              "      <td>61.250</td>\n",
              "      <td>0</td>\n",
              "      <td>27</td>\n",
              "    </tr>\n",
              "    <tr>\n",
              "      <th>Sat 04, Sep 2021</th>\n",
              "      <td>24.857143</td>\n",
              "      <td>0.0</td>\n",
              "      <td>77.000</td>\n",
              "      <td>46.625</td>\n",
              "      <td>0</td>\n",
              "      <td>18</td>\n",
              "    </tr>\n",
              "    <tr>\n",
              "      <th>Sun 05, Sep 2021</th>\n",
              "      <td>26.714286</td>\n",
              "      <td>0.2</td>\n",
              "      <td>76.750</td>\n",
              "      <td>44.500</td>\n",
              "      <td>0</td>\n",
              "      <td>26</td>\n",
              "    </tr>\n",
              "    <tr>\n",
              "      <th>Mon 06, Sep 2021</th>\n",
              "      <td>26.000000</td>\n",
              "      <td>0.5</td>\n",
              "      <td>80.500</td>\n",
              "      <td>40.875</td>\n",
              "      <td>0</td>\n",
              "      <td>24</td>\n",
              "    </tr>\n",
              "    <tr>\n",
              "      <th>Tue 07, Sep 2021</th>\n",
              "      <td>26.714286</td>\n",
              "      <td>0.2</td>\n",
              "      <td>77.875</td>\n",
              "      <td>47.500</td>\n",
              "      <td>0</td>\n",
              "      <td>27</td>\n",
              "    </tr>\n",
              "  </tbody>\n",
              "</table>\n",
              "</div>"
            ],
            "text/plain": [
              "                  Temp_avg(°c)  Rain_sum(mm)  ...  Occurance  Flood Prediction(%)\n",
              "Date                                          ...                                \n",
              "Tue 20, Jul 2021     28.000000           0.0  ...          0                   23\n",
              "Wed 21, Jul 2021     27.714286           0.2  ...          0                   25\n",
              "Thu 22, Jul 2021     28.142857           0.4  ...          0                   28\n",
              "Fri 23, Jul 2021     28.428571           0.0  ...          0                   27\n",
              "Sat 24, Jul 2021     27.571429           1.6  ...          0                   29\n",
              "Sun 25, Jul 2021     27.428571          16.4  ...          0                   55\n",
              "Mon 26, Jul 2021     28.142857           3.4  ...          0                   38\n",
              "Tue 27, Jul 2021     27.857143           1.3  ...          0                   32\n",
              "Wed 28, Jul 2021     28.000000           0.7  ...          0                   32\n",
              "Thu 29, Jul 2021     27.285714           2.9  ...          0                   31\n",
              "Fri 30, Jul 2021     28.285714           3.1  ...          1                   36\n",
              "Sat 31, Jul 2021     27.857143           0.7  ...          0                   27\n",
              "Sun 01, Aug 2021     28.285714           0.7  ...          0                   30\n",
              "Mon 02, Aug 2021     27.142857           6.1  ...          0                   41\n",
              "Tue 03, Aug 2021     28.000000           4.7  ...          0                   44\n",
              "Wed 04, Aug 2021     28.142857           1.2  ...          0                   32\n",
              "Thu 05, Aug 2021     28.000000           3.4  ...          0                   42\n",
              "Fri 06, Aug 2021     27.714286           3.0  ...          0                   34\n",
              "Sat 07, Aug 2021     27.714286           3.1  ...          0                   42\n",
              "Sun 08, Aug 2021     27.142857          18.0  ...          0                   61\n",
              "Mon 09, Aug 2021     28.000000           6.6  ...          0                   47\n",
              "Tue 10, Aug 2021     27.857143          10.3  ...          0                   56\n",
              "Wed 11, Aug 2021     27.428571           6.7  ...          0                   43\n",
              "Thu 12, Aug 2021     27.714286           2.0  ...          0                   32\n",
              "Fri 13, Aug 2021     28.142857           1.5  ...          0                   36\n",
              "Sat 14, Aug 2021     27.714286           3.2  ...          0                   38\n",
              "Sun 15, Aug 2021     27.000000           9.0  ...          0                   44\n",
              "Mon 16, Aug 2021     26.571429          14.2  ...          0                   52\n",
              "Tue 17, Aug 2021     25.571429          38.4  ...          0                   77\n",
              "Wed 18, Aug 2021     25.428571          33.9  ...          1                   74\n",
              "Thu 19, Aug 2021     24.142857          49.9  ...          1                   84\n",
              "Fri 20, Aug 2021     24.000000           6.1  ...          0                   32\n",
              "Sat 21, Aug 2021     25.000000           5.5  ...          0                   35\n",
              "Sun 22, Aug 2021     25.428571          11.6  ...          1                   41\n",
              "Mon 23, Aug 2021     25.142857           2.4  ...          0                   30\n",
              "Tue 24, Aug 2021     26.571429           1.2  ...          0                   33\n",
              "Wed 25, Aug 2021     25.714286           8.6  ...          0                   41\n",
              "Thu 26, Aug 2021     26.000000           0.3  ...          0                   25\n",
              "Fri 27, Aug 2021     25.571429           1.0  ...          0                   32\n",
              "Sat 28, Aug 2021     26.857143           0.4  ...          0                   28\n",
              "Sun 29, Aug 2021     26.857143           2.2  ...          0                   36\n",
              "Mon 30, Aug 2021     25.714286           4.3  ...          0                   36\n",
              "Tue 31, Aug 2021     26.285714           3.1  ...          0                   36\n",
              "Wed 01, Sep 2021     25.142857           2.8  ...          0                   35\n",
              "Thu 02, Sep 2021     25.142857           0.5  ...          0                   26\n",
              "Fri 03, Sep 2021     23.857143           3.5  ...          0                   27\n",
              "Sat 04, Sep 2021     24.857143           0.0  ...          0                   18\n",
              "Sun 05, Sep 2021     26.714286           0.2  ...          0                   26\n",
              "Mon 06, Sep 2021     26.000000           0.5  ...          0                   24\n",
              "Tue 07, Sep 2021     26.714286           0.2  ...          0                   27\n",
              "\n",
              "[50 rows x 6 columns]"
            ]
          },
          "metadata": {},
          "execution_count": 16
        }
      ]
    },
    {
      "cell_type": "markdown",
      "metadata": {
        "id": "tmSmH4ocTBsk"
      },
      "source": [
        "### Make predictions based on user's input"
      ]
    },
    {
      "cell_type": "code",
      "metadata": {
        "colab": {
          "base_uri": "https://localhost:8080/"
        },
        "id": "3xwRo7fPLDFu",
        "outputId": "7b2ed6a7-d077-488b-b6b0-38d992efc6d7"
      },
      "source": [
        "temp = float(input('Temp_avg(°c): '))\n",
        "rain = float(input('Rain_sum(mm): '))\n",
        "humi = float(input('Humidity_avg(%): '))\n",
        "cloud = float(input('Cloud_avg(%): '))"
      ],
      "execution_count": null,
      "outputs": [
        {
          "name": "stdout",
          "output_type": "stream",
          "text": [
            "Temp_avg(°c): 30\n",
            "Rain_sum(mm): 25\n",
            "Humidity_avg(%): 89\n",
            "Cloud_avg(%): 87\n"
          ]
        }
      ]
    },
    {
      "cell_type": "code",
      "metadata": {
        "colab": {
          "base_uri": "https://localhost:8080/"
        },
        "id": "uosO_fnrMkzN",
        "outputId": "361a4444-f968-4483-9e76-46848eb05e12"
      },
      "source": [
        "user_input = []\n",
        "user_input.append([temp,rain,humi,cloud])\n",
        "sampleDataFeatures2 = (user_input - means)/stds\n",
        "predictionProbability2 = FloodCheck.predict_proba(sampleDataFeatures2)\n",
        "prediction2 = FloodCheck.predict(sampleDataFeatures2)\n",
        "print('Probability of flood is {}%.'.format(round(predictionProbability2[0][1]*100,2)))\n",
        "if predictionProbability2[0][1] < 0.5:\n",
        "  print(\"Flood may not happen\")\n",
        "elif predictionProbability2[0][1] >= 0.5:\n",
        "  print(\"Flood may happen\")"
      ],
      "execution_count": null,
      "outputs": [
        {
          "output_type": "stream",
          "name": "stdout",
          "text": [
            "Probability of flood is 88.05%.\n",
            "Flood may happen\n"
          ]
        }
      ]
    }
  ]
}